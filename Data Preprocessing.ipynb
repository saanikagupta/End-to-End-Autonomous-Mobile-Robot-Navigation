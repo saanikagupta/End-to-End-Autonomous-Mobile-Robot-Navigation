{
  "nbformat": 4,
  "nbformat_minor": 0,
  "metadata": {
    "colab": {
      "name": "Data Preprocessing",
      "version": "0.3.2",
      "provenance": [],
      "collapsed_sections": [
        "zLTbcCy9eDdd",
        "PU_BfsjtWKq_"
      ],
      "toc_visible": true,
      "include_colab_link": true
    },
    "kernelspec": {
      "name": "python3",
      "display_name": "Python 3"
    },
    "accelerator": "GPU"
  },
  "cells": [
    {
      "cell_type": "markdown",
      "metadata": {
        "id": "view-in-github",
        "colab_type": "text"
      },
      "source": [
        "<a href=\"https://colab.research.google.com/github/saanikagupta/End-to-End-Autonomous-Mobile-Robot-Navigation/blob/master/Data%20Preprocessing.ipynb\" target=\"_parent\"><img src=\"https://colab.research.google.com/assets/colab-badge.svg\" alt=\"Open In Colab\"/></a>"
      ]
    },
    {
      "cell_type": "code",
      "metadata": {
        "id": "x0wVodeXZZo-",
        "colab_type": "code",
        "colab": {}
      },
      "source": [
        "import tensorflow as tf\n",
        "tf.logging.set_verbosity(tf.logging.ERROR)"
      ],
      "execution_count": 0,
      "outputs": []
    },
    {
      "cell_type": "markdown",
      "metadata": {
        "id": "8za64YNicq89",
        "colab_type": "text"
      },
      "source": [
        "# Google Drive"
      ]
    },
    {
      "cell_type": "markdown",
      "metadata": {
        "id": "zLTbcCy9eDdd",
        "colab_type": "text"
      },
      "source": [
        "## Mounting Google Drive"
      ]
    },
    {
      "cell_type": "code",
      "metadata": {
        "id": "oViYM7Kgctb3",
        "colab_type": "code",
        "outputId": "856934e2-f444-4222-a352-0d7240a51476",
        "colab": {
          "base_uri": "https://localhost:8080/",
          "height": 54
        }
      },
      "source": [
        "from google.colab import drive\n",
        "drive.mount('/content/drive')"
      ],
      "execution_count": 0,
      "outputs": [
        {
          "output_type": "stream",
          "text": [
            "Drive already mounted at /content/drive; to attempt to forcibly remount, call drive.mount(\"/content/drive\", force_remount=True).\n"
          ],
          "name": "stdout"
        }
      ]
    },
    {
      "cell_type": "code",
      "metadata": {
        "id": "DMMoo_YljmNl",
        "colab_type": "code",
        "outputId": "fa8f629f-e255-4501-d808-92236b1130a0",
        "colab": {
          "base_uri": "https://localhost:8080/",
          "height": 34
        }
      },
      "source": [
        "!pwd\n",
        "# !ls 'drive/My Drive/'"
      ],
      "execution_count": 0,
      "outputs": [
        {
          "output_type": "stream",
          "text": [
            "/content\n"
          ],
          "name": "stdout"
        }
      ]
    },
    {
      "cell_type": "markdown",
      "metadata": {
        "id": "PU_BfsjtWKq_",
        "colab_type": "text"
      },
      "source": [
        "## Moving Dataset"
      ]
    },
    {
      "cell_type": "code",
      "metadata": {
        "id": "iU83A_nywWCF",
        "colab_type": "code",
        "outputId": "60458175-0099-4c5d-dab9-044b5e54c2c7",
        "colab": {
          "base_uri": "https://localhost:8080/",
          "height": 34
        }
      },
      "source": [
        "import shutil\n",
        "shutil.move(\"drive/My Drive/dataset.rar\", \"dataset.rar\")\n",
        "get_ipython().system_raw(\"unrar x dataset.rar\")\n",
        "shutil.move(\"dataset.rar\", \"drive/My Drive/dataset.rar\")"
      ],
      "execution_count": 0,
      "outputs": [
        {
          "output_type": "execute_result",
          "data": {
            "text/plain": [
              "'drive/My Drive/dataset.rar'"
            ]
          },
          "metadata": {
            "tags": []
          },
          "execution_count": 4
        }
      ]
    },
    {
      "cell_type": "markdown",
      "metadata": {
        "id": "ieJEeVRGq1lM",
        "colab_type": "text"
      },
      "source": [
        "# Preprocessing"
      ]
    },
    {
      "cell_type": "code",
      "metadata": {
        "id": "bBmmoUHAeEf6",
        "colab_type": "code",
        "colab": {}
      },
      "source": [
        "# Deleting a directory\n",
        "!rm -rf normalized_dataset"
      ],
      "execution_count": 0,
      "outputs": []
    },
    {
      "cell_type": "markdown",
      "metadata": {
        "id": "HA2tW8o0VfHO",
        "colab_type": "text"
      },
      "source": [
        "## Normalizing"
      ]
    },
    {
      "cell_type": "code",
      "metadata": {
        "id": "GHCqJ3kOS0fa",
        "colab_type": "code",
        "colab": {}
      },
      "source": [
        "import os\n",
        "import pandas as pd\n",
        "from pathlib import Path\n",
        "import shutil\n",
        "from sklearn.preprocessing import MinMaxScaler"
      ],
      "execution_count": 0,
      "outputs": []
    },
    {
      "cell_type": "code",
      "metadata": {
        "id": "JbL8P-_hT8Dd",
        "colab_type": "code",
        "colab": {}
      },
      "source": [
        "# Create a new directory\n",
        "base_dir = 'normalized_dataset'\n",
        "os.mkdir(base_dir)"
      ],
      "execution_count": 0,
      "outputs": []
    },
    {
      "cell_type": "code",
      "metadata": {
        "id": "h4n6_9ktWLxn",
        "colab_type": "code",
        "colab": {}
      },
      "source": [
        "entries = Path('dataset/')"
      ],
      "execution_count": 0,
      "outputs": []
    },
    {
      "cell_type": "code",
      "metadata": {
        "id": "uHHV0Op8RVno",
        "colab_type": "code",
        "colab": {}
      },
      "source": [
        "for entry in entries.iterdir():\n",
        "  # print(entry.name)\n",
        "  df = pd.read_csv(entry, header = 0)\n",
        "  df = df.iloc[:, 1:]\n",
        "  #df.head()\n",
        "  \n",
        "  # create scaler\n",
        "  scaler = MinMaxScaler()\n",
        "  \n",
        "  # fit scaler on data\n",
        "  scaler.fit(df)\n",
        "  \n",
        "  # apply transform\n",
        "  normalized = scaler.transform(df)\n",
        "  # type(normalized)\n",
        "  \n",
        "  new_path = base_dir + '/' + entry.name\n",
        "  normalized_df = pd.DataFrame(data = normalized, index = None, columns = None)\n",
        "  normalized_df.to_csv(new_path, index = True)\n",
        "  # print(new_path)"
      ],
      "execution_count": 0,
      "outputs": []
    },
    {
      "cell_type": "code",
      "metadata": {
        "id": "r_AYbF7qanTI",
        "colab_type": "code",
        "outputId": "cedc615b-f1a7-4a2e-a66b-00e84d81f29b",
        "colab": {
          "base_uri": "https://localhost:8080/",
          "height": 1000
        }
      },
      "source": [
        "# After zipping, download the zipped folder containing the dataset\n",
        "!zip -r normalized_dataset.zip normalized_dataset"
      ],
      "execution_count": 0,
      "outputs": [
        {
          "output_type": "stream",
          "text": [
            "  adding: normalized_dataset/ (stored 0%)\n",
            "  adding: normalized_dataset/las_thetag_dg_w_e2g1_7.csv (deflated 56%)\n",
            "  adding: normalized_dataset/las_thetag_dg_w_e4g1_10.csv (deflated 56%)\n",
            "  adding: normalized_dataset/las_thetag_dg_w_e6g1_1.csv (deflated 56%)\n",
            "  adding: normalized_dataset/las_thetag_dg_w_e3g1_3.csv (deflated 56%)\n",
            "  adding: normalized_dataset/las_thetag_dg_w_e8g1_5.csv (deflated 56%)\n",
            "  adding: normalized_dataset/las_thetag_dg_w_e1g1_15.csv (deflated 56%)\n",
            "  adding: normalized_dataset/las_thetag_dg_w_e2g1_6.csv (deflated 56%)\n",
            "  adding: normalized_dataset/las_thetag_dg_w_e3g1_17.csv (deflated 56%)\n",
            "  adding: normalized_dataset/las_thetag_dg_w_e7g1_5.csv (deflated 56%)\n",
            "  adding: normalized_dataset/las_thetag_dg_w_e7g1_19.csv (deflated 56%)\n",
            "  adding: normalized_dataset/las_thetag_dg_w_e1g1_7.csv (deflated 56%)\n",
            "  adding: normalized_dataset/las_thetag_dg_w_e6g1_3.csv (deflated 56%)\n",
            "  adding: normalized_dataset/las_thetag_dg_w_e7g1_4.csv (deflated 56%)\n",
            "  adding: normalized_dataset/las_thetag_dg_w_e5g1_15.csv (deflated 56%)\n",
            "  adding: normalized_dataset/las_thetag_dg_w_e1g1_19.csv (deflated 56%)\n",
            "  adding: normalized_dataset/las_thetag_dg_w_e5g1_8.csv (deflated 56%)\n",
            "  adding: normalized_dataset/las_thetag_dg_w_e4g1_16.csv (deflated 56%)\n",
            "  adding: normalized_dataset/las_thetag_dg_w_e3g1_4.csv (deflated 56%)\n",
            "  adding: normalized_dataset/las_thetag_dg_w_e5g1_18.csv (deflated 56%)\n",
            "  adding: normalized_dataset/las_thetag_dg_w_e7g1_2.csv (deflated 56%)\n",
            "  adding: normalized_dataset/las_thetag_dg_w_e8g1_9.csv (deflated 56%)\n",
            "  adding: normalized_dataset/las_thetag_dg_w_e8g1_18.csv (deflated 56%)\n",
            "  adding: normalized_dataset/las_thetag_dg_w_e1g1_13.csv (deflated 56%)\n",
            "  adding: normalized_dataset/las_thetag_dg_w_e7g1_9.csv (deflated 56%)\n",
            "  adding: normalized_dataset/las_thetag_dg_w_e2g1_9.csv (deflated 56%)\n",
            "  adding: normalized_dataset/las_thetag_dg_w_e8g1_14.csv (deflated 56%)\n",
            "  adding: normalized_dataset/las_thetag_dg_w_e3g1_1.csv (deflated 56%)\n",
            "  adding: normalized_dataset/las_thetag_dg_w_e10g1_17.csv (deflated 56%)\n",
            "  adding: normalized_dataset/las_thetag_dg_w_e9g1_2.csv (deflated 56%)\n",
            "  adding: normalized_dataset/las_thetag_dg_w_e3g1_14.csv (deflated 56%)\n",
            "  adding: normalized_dataset/las_thetag_dg_w_e5g1_12.csv (deflated 56%)\n",
            "  adding: normalized_dataset/las_thetag_dg_w_e6g1_12.csv (deflated 56%)\n",
            "  adding: normalized_dataset/las_thetag_dg_w_e10g1_13.csv (deflated 56%)\n",
            "  adding: normalized_dataset/las_thetag_dg_w_e4g1_15.csv (deflated 56%)\n",
            "  adding: normalized_dataset/las_thetag_dg_w_e3g1_19.csv (deflated 56%)\n",
            "  adding: normalized_dataset/las_thetag_dg_w_e2g1_5.csv (deflated 56%)\n",
            "  adding: normalized_dataset/las_thetag_dg_w_e6g1_16.csv (deflated 56%)\n",
            "  adding: normalized_dataset/las_thetag_dg_w_e6g1_13.csv (deflated 56%)\n",
            "  adding: normalized_dataset/las_thetag_dg_w_e4g1_3.csv (deflated 56%)\n",
            "  adding: normalized_dataset/las_thetag_dg_w_e4g1_14.csv (deflated 56%)\n",
            "  adding: normalized_dataset/las_thetag_dg_w_e10g1_15.csv (deflated 56%)\n",
            "  adding: normalized_dataset/las_thetag_dg_w_e5g1_2.csv (deflated 56%)\n",
            "  adding: normalized_dataset/las_thetag_dg_w_e5g1_7.csv (deflated 56%)\n",
            "  adding: normalized_dataset/las_thetag_dg_w_e7g1_8.csv (deflated 56%)\n",
            "  adding: normalized_dataset/las_thetag_dg_w_e6g1_4.csv (deflated 56%)\n",
            "  adding: normalized_dataset/las_thetag_dg_w_e10g1_20.csv (deflated 56%)\n",
            "  adding: normalized_dataset/las_thetag_dg_w_e1g1_3.csv (deflated 56%)\n",
            "  adding: normalized_dataset/las_thetag_dg_w_e3g1_10.csv (deflated 56%)\n",
            "  adding: normalized_dataset/las_thetag_dg_w_e8g1_4.csv (deflated 56%)\n",
            "  adding: normalized_dataset/las_thetag_dg_w_e1g1_9.csv (deflated 56%)\n",
            "  adding: normalized_dataset/las_thetag_dg_w_e8g1_6.csv (deflated 56%)\n",
            "  adding: normalized_dataset/las_thetag_dg_w_e9g1_18.csv (deflated 56%)\n",
            "  adding: normalized_dataset/las_thetag_dg_w_e10g1_7.csv (deflated 56%)\n",
            "  adding: normalized_dataset/las_thetag_dg_w_e9g1_14.csv (deflated 56%)\n",
            "  adding: normalized_dataset/las_thetag_dg_w_e6g1_11.csv (deflated 56%)\n",
            "  adding: normalized_dataset/las_thetag_dg_w_e9g1_1.csv (deflated 56%)\n",
            "  adding: normalized_dataset/las_thetag_dg_w_e4g1_5.csv (deflated 56%)\n",
            "  adding: normalized_dataset/las_thetag_dg_w_e6g1_17.csv (deflated 56%)\n",
            "  adding: normalized_dataset/las_thetag_dg_w_e1g1_5.csv (deflated 56%)\n",
            "  adding: normalized_dataset/las_thetag_dg_w_e10g1_1.csv (deflated 56%)\n",
            "  adding: normalized_dataset/las_thetag_dg_w_e7g1_14.csv (deflated 56%)\n",
            "  adding: normalized_dataset/las_thetag_dg_w_e3g1_5.csv (deflated 56%)\n",
            "  adding: normalized_dataset/las_thetag_dg_w_e10g1_8.csv (deflated 56%)\n",
            "  adding: normalized_dataset/las_thetag_dg_w_e7g1_12.csv (deflated 56%)\n",
            "  adding: normalized_dataset/las_thetag_dg_w_e2g1_13.csv (deflated 56%)\n",
            "  adding: normalized_dataset/las_thetag_dg_w_e6g1_19.csv (deflated 56%)\n",
            "  adding: normalized_dataset/las_thetag_dg_w_e7g1_7.csv (deflated 56%)\n",
            "  adding: normalized_dataset/las_thetag_dg_w_e9g1_10.csv (deflated 56%)\n",
            "  adding: normalized_dataset/las_thetag_dg_w_e2g1_2.csv (deflated 56%)\n",
            "  adding: normalized_dataset/las_thetag_dg_w_e1g1_6.csv (deflated 56%)\n",
            "  adding: normalized_dataset/las_thetag_dg_w_e10g1_16.csv (deflated 56%)\n",
            "  adding: normalized_dataset/las_thetag_dg_w_e9g1_15.csv (deflated 56%)\n",
            "  adding: normalized_dataset/las_thetag_dg_w_e9g1_20.csv (deflated 56%)\n",
            "  adding: normalized_dataset/las_thetag_dg_w_e5g1_13.csv (deflated 56%)\n",
            "  adding: normalized_dataset/las_thetag_dg_w_e10g1_5.csv (deflated 56%)\n",
            "  adding: normalized_dataset/las_thetag_dg_w_e5g1_1.csv (deflated 56%)\n",
            "  adding: normalized_dataset/las_thetag_dg_w_e6g1_5.csv (deflated 56%)\n",
            "  adding: normalized_dataset/las_thetag_dg_w_e1g1_20.csv (deflated 56%)\n",
            "  adding: normalized_dataset/las_thetag_dg_w_e9g1_11.csv (deflated 56%)\n",
            "  adding: normalized_dataset/las_thetag_dg_w_e1g1_11.csv (deflated 56%)\n",
            "  adding: normalized_dataset/las_thetag_dg_w_e8g1_1.csv (deflated 56%)\n",
            "  adding: normalized_dataset/las_thetag_dg_w_e6g1_2.csv (deflated 56%)\n",
            "  adding: normalized_dataset/las_thetag_dg_w_e2g1_8.csv (deflated 56%)\n",
            "  adding: normalized_dataset/las_thetag_dg_w_e9g1_4.csv (deflated 56%)\n",
            "  adding: normalized_dataset/las_thetag_dg_w_e8g1_7.csv (deflated 56%)\n",
            "  adding: normalized_dataset/las_thetag_dg_w_e9g1_19.csv (deflated 56%)\n",
            "  adding: normalized_dataset/las_thetag_dg_w_e7g1_18.csv (deflated 56%)\n",
            "  adding: normalized_dataset/las_thetag_dg_w_e1g1_4.csv (deflated 56%)\n",
            "  adding: normalized_dataset/las_thetag_dg_w_e8g1_2.csv (deflated 56%)\n",
            "  adding: normalized_dataset/las_thetag_dg_w_e4g1_7.csv (deflated 56%)\n",
            "  adding: normalized_dataset/las_thetag_dg_w_e5g1_17.csv (deflated 56%)\n",
            "  adding: normalized_dataset/las_thetag_dg_w_e2g1_1.csv (deflated 56%)\n",
            "  adding: normalized_dataset/las_thetag_dg_w_e3g1_15.csv (deflated 56%)\n",
            "  adding: normalized_dataset/las_thetag_dg_w_e2g1_10.csv (deflated 56%)\n",
            "  adding: normalized_dataset/las_thetag_dg_w_e3g1_13.csv (deflated 56%)\n",
            "  adding: normalized_dataset/las_thetag_dg_w_e4g1_11.csv (deflated 56%)\n",
            "  adding: normalized_dataset/las_thetag_dg_w_e5g1_11.csv (deflated 56%)\n",
            "  adding: normalized_dataset/las_thetag_dg_w_e5g1_14.csv (deflated 56%)\n",
            "  adding: normalized_dataset/las_thetag_dg_w_e5g1_4.csv (deflated 56%)\n",
            "  adding: normalized_dataset/las_thetag_dg_w_e8g1_12.csv (deflated 56%)\n",
            "  adding: normalized_dataset/las_thetag_dg_w_e3g1_8.csv (deflated 56%)\n",
            "  adding: normalized_dataset/las_thetag_dg_w_e9g1_13.csv (deflated 56%)\n",
            "  adding: normalized_dataset/las_thetag_dg_w_e3g1_12.csv (deflated 56%)\n",
            "  adding: normalized_dataset/las_thetag_dg_w_e4g1_2.csv (deflated 56%)\n",
            "  adding: normalized_dataset/las_thetag_dg_w_e5g1_9.csv (deflated 56%)\n",
            "  adding: normalized_dataset/las_thetag_dg_w_e6g1_10.csv (deflated 56%)\n",
            "  adding: normalized_dataset/las_thetag_dg_w_e6g1_20.csv (deflated 56%)\n",
            "  adding: normalized_dataset/las_thetag_dg_w_e3g1_18.csv (deflated 56%)\n",
            "  adding: normalized_dataset/las_thetag_dg_w_e10g1_6.csv (deflated 56%)\n",
            "  adding: normalized_dataset/las_thetag_dg_w_e10g1_12.csv (deflated 56%)\n",
            "  adding: normalized_dataset/las_thetag_dg_w_e1g1_1.csv (deflated 56%)\n",
            "  adding: normalized_dataset/las_thetag_dg_w_e7g1_10.csv (deflated 56%)\n",
            "  adding: normalized_dataset/las_thetag_dg_w_e4g1_1.csv (deflated 56%)\n",
            "  adding: normalized_dataset/las_thetag_dg_w_e2g1_4.csv (deflated 56%)\n",
            "  adding: normalized_dataset/las_thetag_dg_w_e7g1_3.csv (deflated 56%)\n",
            "  adding: normalized_dataset/las_thetag_dg_w_e5g1_16.csv (deflated 56%)\n",
            "  adding: normalized_dataset/las_thetag_dg_w_e3g1_20.csv (deflated 56%)\n",
            "  adding: normalized_dataset/las_thetag_dg_w_e6g1_18.csv (deflated 56%)\n",
            "  adding: normalized_dataset/las_thetag_dg_w_e8g1_16.csv (deflated 56%)\n",
            "  adding: normalized_dataset/las_thetag_dg_w_e5g1_10.csv (deflated 56%)\n",
            "  adding: normalized_dataset/las_thetag_dg_w_e2g1_15.csv (deflated 56%)\n",
            "  adding: normalized_dataset/las_thetag_dg_w_e8g1_8.csv (deflated 56%)\n",
            "  adding: normalized_dataset/las_thetag_dg_w_e8g1_3.csv (deflated 56%)\n",
            "  adding: normalized_dataset/las_thetag_dg_w_e8g1_19.csv (deflated 56%)\n",
            "  adding: normalized_dataset/las_thetag_dg_w_e10g1_11.csv (deflated 56%)\n",
            "  adding: normalized_dataset/las_thetag_dg_w_e1g1_10.csv (deflated 56%)\n",
            "  adding: normalized_dataset/las_thetag_dg_w_e4g1_20.csv (deflated 56%)\n",
            "  adding: normalized_dataset/las_thetag_dg_w_e4g1_19.csv (deflated 56%)\n",
            "  adding: normalized_dataset/las_thetag_dg_w_e7g1_17.csv (deflated 56%)\n",
            "  adding: normalized_dataset/las_thetag_dg_w_e7g1_16.csv (deflated 56%)\n",
            "  adding: normalized_dataset/las_thetag_dg_w_e6g1_15.csv (deflated 56%)\n",
            "  adding: normalized_dataset/las_thetag_dg_w_e4g1_17.csv (deflated 56%)\n",
            "  adding: normalized_dataset/las_thetag_dg_w_e7g1_11.csv (deflated 56%)\n",
            "  adding: normalized_dataset/las_thetag_dg_w_e2g1_20.csv (deflated 56%)\n",
            "  adding: normalized_dataset/las_thetag_dg_w_e10g1_19.csv (deflated 56%)\n",
            "  adding: normalized_dataset/las_thetag_dg_w_e8g1_20.csv (deflated 56%)\n",
            "  adding: normalized_dataset/las_thetag_dg_w_e4g1_6.csv (deflated 56%)\n",
            "  adding: normalized_dataset/las_thetag_dg_w_e4g1_8.csv (deflated 56%)\n",
            "  adding: normalized_dataset/las_thetag_dg_w_e7g1_13.csv (deflated 56%)\n",
            "  adding: normalized_dataset/las_thetag_dg_w_e2g1_18.csv (deflated 56%)\n",
            "  adding: normalized_dataset/las_thetag_dg_w_e6g1_9.csv (deflated 56%)\n",
            "  adding: normalized_dataset/las_thetag_dg_w_e2g1_3.csv (deflated 56%)\n",
            "  adding: normalized_dataset/las_thetag_dg_w_e5g1_6.csv (deflated 56%)\n",
            "  adding: normalized_dataset/las_thetag_dg_w_e9g1_5.csv (deflated 56%)\n",
            "  adding: normalized_dataset/las_thetag_dg_w_e6g1_14.csv (deflated 56%)\n",
            "  adding: normalized_dataset/las_thetag_dg_w_e9g1_16.csv (deflated 56%)\n",
            "  adding: normalized_dataset/las_thetag_dg_w_e10g1_4.csv (deflated 56%)\n",
            "  adding: normalized_dataset/las_thetag_dg_w_e8g1_10.csv (deflated 56%)\n",
            "  adding: normalized_dataset/las_thetag_dg_w_e2g1_11.csv (deflated 56%)\n",
            "  adding: normalized_dataset/las_thetag_dg_w_e5g1_3.csv (deflated 56%)\n",
            "  adding: normalized_dataset/las_thetag_dg_w_e9g1_12.csv (deflated 56%)\n",
            "  adding: normalized_dataset/las_thetag_dg_w_e2g1_14.csv (deflated 56%)\n",
            "  adding: normalized_dataset/las_thetag_dg_w_e4g1_18.csv (deflated 56%)\n",
            "  adding: normalized_dataset/las_thetag_dg_w_e10g1_2.csv (deflated 56%)\n",
            "  adding: normalized_dataset/las_thetag_dg_w_e10g1_10.csv (deflated 56%)\n",
            "  adding: normalized_dataset/las_thetag_dg_w_e4g1_13.csv (deflated 56%)\n",
            "  adding: normalized_dataset/las_thetag_dg_w_e4g1_4.csv (deflated 56%)\n",
            "  adding: normalized_dataset/las_thetag_dg_w_e3g1_16.csv (deflated 56%)\n",
            "  adding: normalized_dataset/las_thetag_dg_w_e4g1_12.csv (deflated 56%)\n",
            "  adding: normalized_dataset/las_thetag_dg_w_e6g1_8.csv (deflated 56%)\n",
            "  adding: normalized_dataset/las_thetag_dg_w_e6g1_6.csv (deflated 56%)\n",
            "  adding: normalized_dataset/las_thetag_dg_w_e9g1_9.csv (deflated 56%)\n",
            "  adding: normalized_dataset/las_thetag_dg_w_e7g1_20.csv (deflated 56%)\n",
            "  adding: normalized_dataset/las_thetag_dg_w_e1g1_17.csv (deflated 56%)\n",
            "  adding: normalized_dataset/las_thetag_dg_w_e1g1_16.csv (deflated 56%)\n",
            "  adding: normalized_dataset/las_thetag_dg_w_e9g1_3.csv (deflated 56%)\n",
            "  adding: normalized_dataset/las_thetag_dg_w_e8g1_15.csv (deflated 56%)\n",
            "  adding: normalized_dataset/las_thetag_dg_w_e2g1_17.csv (deflated 56%)\n",
            "  adding: normalized_dataset/las_thetag_dg_w_e1g1_2.csv (deflated 56%)\n",
            "  adding: normalized_dataset/las_thetag_dg_w_e5g1_19.csv (deflated 56%)\n",
            "  adding: normalized_dataset/las_thetag_dg_w_e5g1_5.csv (deflated 56%)\n",
            "  adding: normalized_dataset/las_thetag_dg_w_e7g1_6.csv (deflated 56%)\n",
            "  adding: normalized_dataset/las_thetag_dg_w_e3g1_11.csv (deflated 56%)\n",
            "  adding: normalized_dataset/las_thetag_dg_w_e1g1_8.csv (deflated 56%)\n",
            "  adding: normalized_dataset/las_thetag_dg_w_e3g1_7.csv (deflated 56%)\n",
            "  adding: normalized_dataset/las_thetag_dg_w_e2g1_12.csv (deflated 56%)\n",
            "  adding: normalized_dataset/las_thetag_dg_w_e8g1_11.csv (deflated 56%)\n",
            "  adding: normalized_dataset/las_thetag_dg_w_e9g1_8.csv (deflated 56%)\n",
            "  adding: normalized_dataset/las_thetag_dg_w_e10g1_3.csv (deflated 56%)\n",
            "  adding: normalized_dataset/las_thetag_dg_w_e2g1_16.csv (deflated 56%)\n",
            "  adding: normalized_dataset/las_thetag_dg_w_e7g1_1.csv (deflated 56%)\n",
            "  adding: normalized_dataset/las_thetag_dg_w_e1g1_14.csv (deflated 56%)\n",
            "  adding: normalized_dataset/las_thetag_dg_w_e3g1_9.csv (deflated 56%)\n",
            "  adding: normalized_dataset/las_thetag_dg_w_e6g1_7.csv (deflated 56%)\n",
            "  adding: normalized_dataset/las_thetag_dg_w_e3g1_2.csv (deflated 56%)\n",
            "  adding: normalized_dataset/las_thetag_dg_w_e5g1_20.csv (deflated 56%)\n",
            "  adding: normalized_dataset/las_thetag_dg_w_e4g1_9.csv (deflated 56%)\n",
            "  adding: normalized_dataset/las_thetag_dg_w_e7g1_15.csv (deflated 56%)\n",
            "  adding: normalized_dataset/las_thetag_dg_w_e9g1_17.csv (deflated 56%)\n",
            "  adding: normalized_dataset/las_thetag_dg_w_e8g1_13.csv (deflated 56%)\n",
            "  adding: normalized_dataset/las_thetag_dg_w_e10g1_18.csv (deflated 56%)\n",
            "  adding: normalized_dataset/las_thetag_dg_w_e1g1_12.csv (deflated 56%)\n",
            "  adding: normalized_dataset/las_thetag_dg_w_e2g1_19.csv (deflated 56%)\n",
            "  adding: normalized_dataset/las_thetag_dg_w_e9g1_7.csv (deflated 56%)\n",
            "  adding: normalized_dataset/las_thetag_dg_w_e8g1_17.csv (deflated 56%)\n",
            "  adding: normalized_dataset/las_thetag_dg_w_e10g1_9.csv (deflated 56%)\n",
            "  adding: normalized_dataset/las_thetag_dg_w_e1g1_18.csv (deflated 56%)\n",
            "  adding: normalized_dataset/las_thetag_dg_w_e3g1_6.csv (deflated 56%)\n"
          ],
          "name": "stdout"
        }
      ]
    },
    {
      "cell_type": "code",
      "metadata": {
        "id": "0wd1DnXrWvWW",
        "colab_type": "code",
        "outputId": "f8f158de-e7b6-4fb2-d253-40d6220d6dea",
        "colab": {
          "base_uri": "https://localhost:8080/",
          "height": 34
        }
      },
      "source": [
        "# Moving the generated normalized dataset to Google Drive\n",
        "shutil.move(\"normalized_dataset.zip\", \"drive/My Drive/normalized_dataset.zip\")"
      ],
      "execution_count": 0,
      "outputs": [
        {
          "output_type": "execute_result",
          "data": {
            "text/plain": [
              "'drive/My Drive/normalized_dataset.zip'"
            ]
          },
          "metadata": {
            "tags": []
          },
          "execution_count": 17
        }
      ]
    },
    {
      "cell_type": "markdown",
      "metadata": {
        "id": "8yw7eLvVVixn",
        "colab_type": "text"
      },
      "source": [
        "## Oversampling"
      ]
    },
    {
      "cell_type": "code",
      "metadata": {
        "id": "BQOBLF2wLMlz",
        "colab_type": "code",
        "colab": {}
      },
      "source": [
        "import numpy as np\n",
        "import glob\n",
        "import pandas as pd\n",
        "import os\n",
        "import shutil"
      ],
      "execution_count": 0,
      "outputs": []
    },
    {
      "cell_type": "code",
      "metadata": {
        "id": "xuMjrFrokwbn",
        "colab_type": "code",
        "colab": {}
      },
      "source": [
        "# !rm -rf normalized_dataset\n",
        "shutil.move(\"drive/My Drive/normalized_dataset.zip\", \"normalized_dataset.zip\")\n",
        "!unzip 'normalized_dataset.zip'\n",
        "shutil.move(\"normalized_dataset.zip\", \"drive/My Drive/normalized_dataset.zip\")"
      ],
      "execution_count": 0,
      "outputs": []
    },
    {
      "cell_type": "code",
      "metadata": {
        "id": "xQzi1o2lZUFq",
        "colab_type": "code",
        "colab": {}
      },
      "source": [
        "base_dir = 'balanced_normalized_dataset'\n",
        "# !rm -rf balanced_normalized_dataset\n",
        "\n",
        "# Making a new directory to store the generated files\n",
        "os.mkdir(base_dir)"
      ],
      "execution_count": 0,
      "outputs": []
    },
    {
      "cell_type": "code",
      "metadata": {
        "id": "GfY_IRWPXbGe",
        "colab_type": "code",
        "colab": {}
      },
      "source": [
        "# Writing a custom function for oversampling\n",
        "def custom_balance(csv_list):\n",
        "  for CSV in csv_list:\n",
        "    np_array = np.genfromtxt(CSV, delimiter=',')\n",
        "    np_array = np_array[1:, 1:]\n",
        "    \n",
        "    # Counting the number of three classes\n",
        "    class_zero = 0\n",
        "    class_one = 0\n",
        "    class_two = 0\n",
        "    class_zero_list = []\n",
        "    class_one_list = []\n",
        "    class_two_list = []\n",
        "    for x in range(len(np_array)):\n",
        "      if(np_array[x, -1] == 1):\n",
        "        class_one = class_one + 1\n",
        "        class_one_list.append(np_array[x, :])\n",
        "        \n",
        "      elif(np_array[x, -1] == 0):\n",
        "        class_zero = class_zero + 1\n",
        "        class_zero_list.append(np_array[x, :])\n",
        "      \n",
        "      else:\n",
        "        class_two = class_two + 1\n",
        "        class_two_list.append(np_array[x, :])\n",
        "\n",
        "    # Printing the number of data points for each class in a particular CSV file\n",
        "    print('0:', class_zero, '0.5:', class_two, '1:', class_one, CSV, len(np_array))\n",
        "    val = max(class_zero, class_one)\n",
        "    new_val = class_two // (val * 2)\n",
        "    \n",
        "    # Copying the minority class for oversampling\n",
        "    class_zero_list = class_zero_list * new_val\n",
        "    class_one_list = class_one_list * new_val\n",
        "    \n",
        "    # Printing the shapes after oversampling\n",
        "    print('Final shapes:', np.array(class_zero_list).shape, np.array(class_one_list).shape, np.array(class_two_list).shape)\n",
        "    \n",
        "    # Stacking the arrays\n",
        "    np_array = np.vstack((class_zero_list, class_one_list, class_two_list))\n",
        "    # print(type(np_array))\n",
        "    \n",
        "    # Setting path to save the generated CSV file\n",
        "    file_name = CSV.split('/')\n",
        "    new_path = base_dir + '/' + file_name[1]\n",
        "    \n",
        "    # Dumping the generated NumPy array into a CSV file and saving it in the given path\n",
        "    pd.DataFrame(np_array).to_csv(new_path)"
      ],
      "execution_count": 0,
      "outputs": []
    },
    {
      "cell_type": "code",
      "metadata": {
        "id": "KBZHxGo12xWd",
        "colab_type": "code",
        "colab": {}
      },
      "source": [
        "csv_list = glob.glob('normalized_dataset/*.csv')"
      ],
      "execution_count": 0,
      "outputs": []
    },
    {
      "cell_type": "code",
      "metadata": {
        "id": "hJuZEo40Oov0",
        "colab_type": "code",
        "colab": {
          "base_uri": "https://localhost:8080/",
          "height": 1000
        },
        "outputId": "a78365ed-1ec7-41da-dc97-b968a705ea06"
      },
      "source": [
        "custom_balance(csv_list)"
      ],
      "execution_count": 30,
      "outputs": [
        {
          "output_type": "stream",
          "text": [
            "0: 8 0.5: 70 1: 7 normalized_dataset/las_thetag_dg_w_e2g1_7.csv 85\n",
            "Final shapes: (32, 1023) (28, 1023) (70, 1023)\n",
            "0: 7 0.5: 65 1: 7 normalized_dataset/las_thetag_dg_w_e4g1_10.csv 79\n",
            "Final shapes: (28, 1023) (28, 1023) (65, 1023)\n",
            "0: 4 0.5: 50 1: 3 normalized_dataset/las_thetag_dg_w_e6g1_1.csv 57\n",
            "Final shapes: (24, 1023) (18, 1023) (50, 1023)\n",
            "0: 8 0.5: 57 1: 6 normalized_dataset/las_thetag_dg_w_e3g1_3.csv 71\n",
            "Final shapes: (24, 1023) (18, 1023) (57, 1023)\n",
            "0: 4 0.5: 57 1: 6 normalized_dataset/las_thetag_dg_w_e8g1_5.csv 67\n",
            "Final shapes: (16, 1023) (24, 1023) (57, 1023)\n",
            "0: 7 0.5: 66 1: 6 normalized_dataset/las_thetag_dg_w_e1g1_15.csv 79\n",
            "Final shapes: (28, 1023) (24, 1023) (66, 1023)\n",
            "0: 8 0.5: 65 1: 6 normalized_dataset/las_thetag_dg_w_e2g1_6.csv 79\n",
            "Final shapes: (32, 1023) (24, 1023) (65, 1023)\n",
            "0: 7 0.5: 52 1: 7 normalized_dataset/las_thetag_dg_w_e3g1_17.csv 66\n",
            "Final shapes: (21, 1023) (21, 1023) (52, 1023)\n",
            "0: 8 0.5: 65 1: 8 normalized_dataset/las_thetag_dg_w_e7g1_5.csv 81\n",
            "Final shapes: (32, 1023) (32, 1023) (65, 1023)\n",
            "0: 7 0.5: 54 1: 6 normalized_dataset/las_thetag_dg_w_e7g1_19.csv 67\n",
            "Final shapes: (21, 1023) (18, 1023) (54, 1023)\n",
            "0: 8 0.5: 61 1: 7 normalized_dataset/las_thetag_dg_w_e1g1_7.csv 76\n",
            "Final shapes: (24, 1023) (21, 1023) (61, 1023)\n",
            "0: 7 0.5: 55 1: 6 normalized_dataset/las_thetag_dg_w_e6g1_3.csv 68\n",
            "Final shapes: (21, 1023) (18, 1023) (55, 1023)\n",
            "0: 8 0.5: 64 1: 7 normalized_dataset/las_thetag_dg_w_e7g1_4.csv 79\n",
            "Final shapes: (32, 1023) (28, 1023) (64, 1023)\n",
            "0: 12 0.5: 66 1: 10 normalized_dataset/las_thetag_dg_w_e5g1_15.csv 88\n",
            "Final shapes: (24, 1023) (20, 1023) (66, 1023)\n",
            "0: 7 0.5: 63 1: 8 normalized_dataset/las_thetag_dg_w_e1g1_19.csv 78\n",
            "Final shapes: (21, 1023) (24, 1023) (63, 1023)\n",
            "0: 11 0.5: 71 1: 10 normalized_dataset/las_thetag_dg_w_e5g1_8.csv 92\n",
            "Final shapes: (33, 1023) (30, 1023) (71, 1023)\n",
            "0: 8 0.5: 72 1: 7 normalized_dataset/las_thetag_dg_w_e4g1_16.csv 87\n",
            "Final shapes: (32, 1023) (28, 1023) (72, 1023)\n",
            "0: 7 0.5: 56 1: 8 normalized_dataset/las_thetag_dg_w_e3g1_4.csv 71\n",
            "Final shapes: (21, 1023) (24, 1023) (56, 1023)\n",
            "0: 11 0.5: 73 1: 10 normalized_dataset/las_thetag_dg_w_e5g1_18.csv 94\n",
            "Final shapes: (33, 1023) (30, 1023) (73, 1023)\n",
            "0: 8 0.5: 63 1: 8 normalized_dataset/las_thetag_dg_w_e7g1_2.csv 79\n",
            "Final shapes: (24, 1023) (24, 1023) (63, 1023)\n",
            "0: 8 0.5: 61 1: 7 normalized_dataset/las_thetag_dg_w_e8g1_9.csv 76\n",
            "Final shapes: (24, 1023) (21, 1023) (61, 1023)\n",
            "0: 7 0.5: 63 1: 4 normalized_dataset/las_thetag_dg_w_e8g1_18.csv 74\n",
            "Final shapes: (28, 1023) (16, 1023) (63, 1023)\n",
            "0: 7 0.5: 63 1: 7 normalized_dataset/las_thetag_dg_w_e1g1_13.csv 77\n",
            "Final shapes: (28, 1023) (28, 1023) (63, 1023)\n",
            "0: 7 0.5: 65 1: 8 normalized_dataset/las_thetag_dg_w_e7g1_9.csv 80\n",
            "Final shapes: (28, 1023) (32, 1023) (65, 1023)\n",
            "0: 7 0.5: 72 1: 6 normalized_dataset/las_thetag_dg_w_e2g1_9.csv 85\n",
            "Final shapes: (35, 1023) (30, 1023) (72, 1023)\n",
            "0: 7 0.5: 60 1: 4 normalized_dataset/las_thetag_dg_w_e8g1_14.csv 71\n",
            "Final shapes: (28, 1023) (16, 1023) (60, 1023)\n",
            "0: 8 0.5: 54 1: 6 normalized_dataset/las_thetag_dg_w_e3g1_1.csv 68\n",
            "Final shapes: (24, 1023) (18, 1023) (54, 1023)\n",
            "0: 7 0.5: 66 1: 8 normalized_dataset/las_thetag_dg_w_e10g1_17.csv 81\n",
            "Final shapes: (28, 1023) (32, 1023) (66, 1023)\n",
            "0: 8 0.5: 61 1: 7 normalized_dataset/las_thetag_dg_w_e9g1_2.csv 76\n",
            "Final shapes: (24, 1023) (21, 1023) (61, 1023)\n",
            "0: 8 0.5: 55 1: 6 normalized_dataset/las_thetag_dg_w_e3g1_14.csv 69\n",
            "Final shapes: (24, 1023) (18, 1023) (55, 1023)\n",
            "0: 12 0.5: 69 1: 9 normalized_dataset/las_thetag_dg_w_e5g1_12.csv 90\n",
            "Final shapes: (24, 1023) (18, 1023) (69, 1023)\n",
            "0: 7 0.5: 61 1: 6 normalized_dataset/las_thetag_dg_w_e6g1_12.csv 74\n",
            "Final shapes: (28, 1023) (24, 1023) (61, 1023)\n",
            "0: 9 0.5: 73 1: 11 normalized_dataset/las_thetag_dg_w_e10g1_13.csv 93\n",
            "Final shapes: (27, 1023) (33, 1023) (73, 1023)\n",
            "0: 8 0.5: 74 1: 7 normalized_dataset/las_thetag_dg_w_e4g1_15.csv 89\n",
            "Final shapes: (32, 1023) (28, 1023) (74, 1023)\n",
            "0: 5 0.5: 56 1: 7 normalized_dataset/las_thetag_dg_w_e3g1_19.csv 68\n",
            "Final shapes: (20, 1023) (28, 1023) (56, 1023)\n",
            "0: 8 0.5: 66 1: 7 normalized_dataset/las_thetag_dg_w_e2g1_5.csv 81\n",
            "Final shapes: (32, 1023) (28, 1023) (66, 1023)\n",
            "0: 7 0.5: 62 1: 6 normalized_dataset/las_thetag_dg_w_e6g1_16.csv 75\n",
            "Final shapes: (28, 1023) (24, 1023) (62, 1023)\n",
            "0: 7 0.5: 61 1: 6 normalized_dataset/las_thetag_dg_w_e6g1_13.csv 74\n",
            "Final shapes: (28, 1023) (24, 1023) (61, 1023)\n",
            "0: 8 0.5: 66 1: 8 normalized_dataset/las_thetag_dg_w_e4g1_3.csv 82\n",
            "Final shapes: (32, 1023) (32, 1023) (66, 1023)\n",
            "0: 8 0.5: 73 1: 7 normalized_dataset/las_thetag_dg_w_e4g1_14.csv 88\n",
            "Final shapes: (32, 1023) (28, 1023) (73, 1023)\n",
            "0: 8 0.5: 69 1: 8 normalized_dataset/las_thetag_dg_w_e10g1_15.csv 85\n",
            "Final shapes: (32, 1023) (32, 1023) (69, 1023)\n",
            "0: 11 0.5: 71 1: 12 normalized_dataset/las_thetag_dg_w_e5g1_2.csv 94\n",
            "Final shapes: (22, 1023) (24, 1023) (71, 1023)\n",
            "0: 12 0.5: 67 1: 12 normalized_dataset/las_thetag_dg_w_e5g1_7.csv 91\n",
            "Final shapes: (24, 1023) (24, 1023) (67, 1023)\n",
            "0: 7 0.5: 62 1: 7 normalized_dataset/las_thetag_dg_w_e7g1_8.csv 76\n",
            "Final shapes: (28, 1023) (28, 1023) (62, 1023)\n",
            "0: 4 0.5: 51 1: 4 normalized_dataset/las_thetag_dg_w_e6g1_4.csv 59\n",
            "Final shapes: (24, 1023) (24, 1023) (51, 1023)\n",
            "0: 7 0.5: 61 1: 6 normalized_dataset/las_thetag_dg_w_e10g1_20.csv 74\n",
            "Final shapes: (28, 1023) (24, 1023) (61, 1023)\n",
            "0: 7 0.5: 61 1: 6 normalized_dataset/las_thetag_dg_w_e1g1_3.csv 74\n",
            "Final shapes: (28, 1023) (24, 1023) (61, 1023)\n",
            "0: 8 0.5: 57 1: 7 normalized_dataset/las_thetag_dg_w_e3g1_10.csv 72\n",
            "Final shapes: (24, 1023) (21, 1023) (57, 1023)\n",
            "0: 6 0.5: 60 1: 8 normalized_dataset/las_thetag_dg_w_e8g1_4.csv 74\n",
            "Final shapes: (18, 1023) (24, 1023) (60, 1023)\n",
            "0: 7 0.5: 68 1: 7 normalized_dataset/las_thetag_dg_w_e1g1_9.csv 82\n",
            "Final shapes: (28, 1023) (28, 1023) (68, 1023)\n",
            "0: 3 0.5: 56 1: 7 normalized_dataset/las_thetag_dg_w_e8g1_6.csv 66\n",
            "Final shapes: (12, 1023) (28, 1023) (56, 1023)\n",
            "0: 7 0.5: 63 1: 7 normalized_dataset/las_thetag_dg_w_e9g1_18.csv 77\n",
            "Final shapes: (28, 1023) (28, 1023) (63, 1023)\n",
            "0: 11 0.5: 72 1: 11 normalized_dataset/las_thetag_dg_w_e10g1_7.csv 94\n",
            "Final shapes: (33, 1023) (33, 1023) (72, 1023)\n",
            "0: 12 0.5: 74 1: 13 normalized_dataset/las_thetag_dg_w_e9g1_14.csv 99\n",
            "Final shapes: (24, 1023) (26, 1023) (74, 1023)\n",
            "0: 4 0.5: 51 1: 3 normalized_dataset/las_thetag_dg_w_e6g1_11.csv 58\n",
            "Final shapes: (24, 1023) (18, 1023) (51, 1023)\n",
            "0: 7 0.5: 56 1: 7 normalized_dataset/las_thetag_dg_w_e9g1_1.csv 70\n",
            "Final shapes: (28, 1023) (28, 1023) (56, 1023)\n",
            "0: 7 0.5: 62 1: 8 normalized_dataset/las_thetag_dg_w_e4g1_5.csv 77\n",
            "Final shapes: (21, 1023) (24, 1023) (62, 1023)\n",
            "0: 8 0.5: 63 1: 8 normalized_dataset/las_thetag_dg_w_e6g1_17.csv 79\n",
            "Final shapes: (24, 1023) (24, 1023) (63, 1023)\n",
            "0: 8 0.5: 61 1: 8 normalized_dataset/las_thetag_dg_w_e1g1_5.csv 77\n",
            "Final shapes: (24, 1023) (24, 1023) (61, 1023)\n",
            "0: 12 0.5: 79 1: 12 normalized_dataset/las_thetag_dg_w_e10g1_1.csv 103\n",
            "Final shapes: (36, 1023) (36, 1023) (79, 1023)\n",
            "0: 8 0.5: 59 1: 7 normalized_dataset/las_thetag_dg_w_e7g1_14.csv 74\n",
            "Final shapes: (24, 1023) (21, 1023) (59, 1023)\n",
            "0: 12 0.5: 59 1: 11 normalized_dataset/las_thetag_dg_w_e3g1_5.csv 82\n",
            "Final shapes: (24, 1023) (22, 1023) (59, 1023)\n",
            "0: 12 0.5: 71 1: 12 normalized_dataset/las_thetag_dg_w_e10g1_8.csv 95\n",
            "Final shapes: (24, 1023) (24, 1023) (71, 1023)\n",
            "0: 7 0.5: 58 1: 7 normalized_dataset/las_thetag_dg_w_e7g1_12.csv 72\n",
            "Final shapes: (28, 1023) (28, 1023) (58, 1023)\n",
            "0: 4 0.5: 84 1: 7 normalized_dataset/las_thetag_dg_w_e2g1_13.csv 95\n",
            "Final shapes: (24, 1023) (42, 1023) (84, 1023)\n",
            "0: 6 0.5: 64 1: 3 normalized_dataset/las_thetag_dg_w_e6g1_19.csv 73\n",
            "Final shapes: (30, 1023) (15, 1023) (64, 1023)\n",
            "0: 8 0.5: 66 1: 7 normalized_dataset/las_thetag_dg_w_e7g1_7.csv 81\n",
            "Final shapes: (32, 1023) (28, 1023) (66, 1023)\n",
            "0: 10 0.5: 66 1: 10 normalized_dataset/las_thetag_dg_w_e9g1_10.csv 86\n",
            "Final shapes: (30, 1023) (30, 1023) (66, 1023)\n",
            "0: 6 0.5: 73 1: 7 normalized_dataset/las_thetag_dg_w_e2g1_2.csv 86\n",
            "Final shapes: (30, 1023) (35, 1023) (73, 1023)\n",
            "0: 8 0.5: 64 1: 8 normalized_dataset/las_thetag_dg_w_e1g1_6.csv 80\n",
            "Final shapes: (32, 1023) (32, 1023) (64, 1023)\n",
            "0: 8 0.5: 58 1: 7 normalized_dataset/las_thetag_dg_w_e10g1_16.csv 73\n",
            "Final shapes: (24, 1023) (21, 1023) (58, 1023)\n",
            "0: 11 0.5: 68 1: 10 normalized_dataset/las_thetag_dg_w_e9g1_15.csv 89\n",
            "Final shapes: (33, 1023) (30, 1023) (68, 1023)\n",
            "0: 9 0.5: 66 1: 8 normalized_dataset/las_thetag_dg_w_e9g1_20.csv 83\n",
            "Final shapes: (27, 1023) (24, 1023) (66, 1023)\n",
            "0: 12 0.5: 68 1: 10 normalized_dataset/las_thetag_dg_w_e5g1_13.csv 90\n",
            "Final shapes: (24, 1023) (20, 1023) (68, 1023)\n",
            "0: 10 0.5: 75 1: 11 normalized_dataset/las_thetag_dg_w_e10g1_5.csv 96\n",
            "Final shapes: (30, 1023) (33, 1023) (75, 1023)\n",
            "0: 10 0.5: 66 1: 10 normalized_dataset/las_thetag_dg_w_e5g1_1.csv 86\n",
            "Final shapes: (30, 1023) (30, 1023) (66, 1023)\n",
            "0: 4 0.5: 50 1: 4 normalized_dataset/las_thetag_dg_w_e6g1_5.csv 58\n",
            "Final shapes: (24, 1023) (24, 1023) (50, 1023)\n",
            "0: 8 0.5: 66 1: 8 normalized_dataset/las_thetag_dg_w_e1g1_20.csv 82\n",
            "Final shapes: (32, 1023) (32, 1023) (66, 1023)\n",
            "0: 11 0.5: 66 1: 7 normalized_dataset/las_thetag_dg_w_e9g1_11.csv 84\n",
            "Final shapes: (33, 1023) (21, 1023) (66, 1023)\n",
            "0: 8 0.5: 65 1: 7 normalized_dataset/las_thetag_dg_w_e1g1_11.csv 80\n",
            "Final shapes: (32, 1023) (28, 1023) (65, 1023)\n",
            "0: 3 0.5: 59 1: 6 normalized_dataset/las_thetag_dg_w_e8g1_1.csv 68\n",
            "Final shapes: (12, 1023) (24, 1023) (59, 1023)\n",
            "0: 3 0.5: 53 1: 3 normalized_dataset/las_thetag_dg_w_e6g1_2.csv 59\n",
            "Final shapes: (24, 1023) (24, 1023) (53, 1023)\n",
            "0: 6 0.5: 67 1: 8 normalized_dataset/las_thetag_dg_w_e2g1_8.csv 81\n",
            "Final shapes: (24, 1023) (32, 1023) (67, 1023)\n",
            "0: 8 0.5: 65 1: 8 normalized_dataset/las_thetag_dg_w_e9g1_4.csv 81\n",
            "Final shapes: (32, 1023) (32, 1023) (65, 1023)\n",
            "0: 8 0.5: 63 1: 8 normalized_dataset/las_thetag_dg_w_e8g1_7.csv 79\n",
            "Final shapes: (24, 1023) (24, 1023) (63, 1023)\n",
            "0: 12 0.5: 73 1: 13 normalized_dataset/las_thetag_dg_w_e9g1_19.csv 98\n",
            "Final shapes: (24, 1023) (26, 1023) (73, 1023)\n",
            "0: 7 0.5: 56 1: 7 normalized_dataset/las_thetag_dg_w_e7g1_18.csv 70\n",
            "Final shapes: (28, 1023) (28, 1023) (56, 1023)\n",
            "0: 7 0.5: 60 1: 8 normalized_dataset/las_thetag_dg_w_e1g1_4.csv 75\n",
            "Final shapes: (21, 1023) (24, 1023) (60, 1023)\n",
            "0: 4 0.5: 56 1: 7 normalized_dataset/las_thetag_dg_w_e8g1_2.csv 67\n",
            "Final shapes: (16, 1023) (28, 1023) (56, 1023)\n",
            "0: 8 0.5: 65 1: 7 normalized_dataset/las_thetag_dg_w_e4g1_7.csv 80\n",
            "Final shapes: (32, 1023) (28, 1023) (65, 1023)\n",
            "0: 11 0.5: 73 1: 12 normalized_dataset/las_thetag_dg_w_e5g1_17.csv 96\n",
            "Final shapes: (33, 1023) (36, 1023) (73, 1023)\n",
            "0: 7 0.5: 67 1: 7 normalized_dataset/las_thetag_dg_w_e2g1_1.csv 81\n",
            "Final shapes: (28, 1023) (28, 1023) (67, 1023)\n",
            "0: 7 0.5: 63 1: 7 normalized_dataset/las_thetag_dg_w_e3g1_15.csv 77\n",
            "Final shapes: (28, 1023) (28, 1023) (63, 1023)\n",
            "0: 7 0.5: 67 1: 8 normalized_dataset/las_thetag_dg_w_e2g1_10.csv 82\n",
            "Final shapes: (28, 1023) (32, 1023) (67, 1023)\n",
            "0: 7 0.5: 56 1: 6 normalized_dataset/las_thetag_dg_w_e3g1_13.csv 69\n",
            "Final shapes: (28, 1023) (24, 1023) (56, 1023)\n",
            "0: 8 0.5: 68 1: 7 normalized_dataset/las_thetag_dg_w_e4g1_11.csv 83\n",
            "Final shapes: (32, 1023) (28, 1023) (68, 1023)\n",
            "0: 12 0.5: 71 1: 12 normalized_dataset/las_thetag_dg_w_e5g1_11.csv 95\n",
            "Final shapes: (24, 1023) (24, 1023) (71, 1023)\n",
            "0: 13 0.5: 73 1: 9 normalized_dataset/las_thetag_dg_w_e5g1_14.csv 95\n",
            "Final shapes: (26, 1023) (18, 1023) (73, 1023)\n",
            "0: 12 0.5: 70 1: 12 normalized_dataset/las_thetag_dg_w_e5g1_4.csv 94\n",
            "Final shapes: (24, 1023) (24, 1023) (70, 1023)\n",
            "0: 7 0.5: 61 1: 4 normalized_dataset/las_thetag_dg_w_e8g1_12.csv 72\n",
            "Final shapes: (28, 1023) (16, 1023) (61, 1023)\n",
            "0: 9 0.5: 56 1: 8 normalized_dataset/las_thetag_dg_w_e3g1_8.csv 73\n",
            "Final shapes: (27, 1023) (24, 1023) (56, 1023)\n",
            "0: 11 0.5: 70 1: 11 normalized_dataset/las_thetag_dg_w_e9g1_13.csv 92\n",
            "Final shapes: (33, 1023) (33, 1023) (70, 1023)\n",
            "0: 8 0.5: 52 1: 7 normalized_dataset/las_thetag_dg_w_e3g1_12.csv 67\n",
            "Final shapes: (24, 1023) (21, 1023) (52, 1023)\n",
            "0: 7 0.5: 60 1: 8 normalized_dataset/las_thetag_dg_w_e4g1_2.csv 75\n",
            "Final shapes: (21, 1023) (24, 1023) (60, 1023)\n",
            "0: 14 0.5: 78 1: 14 normalized_dataset/las_thetag_dg_w_e5g1_9.csv 106\n",
            "Final shapes: (28, 1023) (28, 1023) (78, 1023)\n",
            "0: 4 0.5: 52 1: 3 normalized_dataset/las_thetag_dg_w_e6g1_10.csv 59\n",
            "Final shapes: (24, 1023) (18, 1023) (52, 1023)\n",
            "0: 8 0.5: 62 1: 8 normalized_dataset/las_thetag_dg_w_e6g1_20.csv 78\n",
            "Final shapes: (24, 1023) (24, 1023) (62, 1023)\n",
            "0: 4 0.5: 51 1: 3 normalized_dataset/las_thetag_dg_w_e3g1_18.csv 58\n",
            "Final shapes: (24, 1023) (18, 1023) (51, 1023)\n",
            "0: 12 0.5: 68 1: 11 normalized_dataset/las_thetag_dg_w_e10g1_6.csv 91\n",
            "Final shapes: (24, 1023) (22, 1023) (68, 1023)\n",
            "0: 11 0.5: 75 1: 12 normalized_dataset/las_thetag_dg_w_e10g1_12.csv 98\n",
            "Final shapes: (33, 1023) (36, 1023) (75, 1023)\n",
            "0: 6 0.5: 56 1: 5 normalized_dataset/las_thetag_dg_w_e1g1_1.csv 67\n",
            "Final shapes: (24, 1023) (20, 1023) (56, 1023)\n",
            "0: 8 0.5: 61 1: 7 normalized_dataset/las_thetag_dg_w_e7g1_10.csv 76\n",
            "Final shapes: (24, 1023) (21, 1023) (61, 1023)\n",
            "0: 8 0.5: 63 1: 10 normalized_dataset/las_thetag_dg_w_e4g1_1.csv 81\n",
            "Final shapes: (24, 1023) (30, 1023) (63, 1023)\n",
            "0: 8 0.5: 71 1: 7 normalized_dataset/las_thetag_dg_w_e2g1_4.csv 86\n",
            "Final shapes: (32, 1023) (28, 1023) (71, 1023)\n",
            "0: 8 0.5: 64 1: 7 normalized_dataset/las_thetag_dg_w_e7g1_3.csv 79\n",
            "Final shapes: (32, 1023) (28, 1023) (64, 1023)\n",
            "0: 10 0.5: 72 1: 11 normalized_dataset/las_thetag_dg_w_e5g1_16.csv 93\n",
            "Final shapes: (30, 1023) (33, 1023) (72, 1023)\n",
            "0: 6 0.5: 57 1: 7 normalized_dataset/las_thetag_dg_w_e3g1_20.csv 70\n",
            "Final shapes: (24, 1023) (28, 1023) (57, 1023)\n",
            "0: 8 0.5: 57 1: 6 normalized_dataset/las_thetag_dg_w_e6g1_18.csv 71\n",
            "Final shapes: (24, 1023) (18, 1023) (57, 1023)\n",
            "0: 7 0.5: 68 1: 4 normalized_dataset/las_thetag_dg_w_e8g1_16.csv 79\n",
            "Final shapes: (28, 1023) (16, 1023) (68, 1023)\n",
            "0: 11 0.5: 69 1: 11 normalized_dataset/las_thetag_dg_w_e5g1_10.csv 91\n",
            "Final shapes: (33, 1023) (33, 1023) (69, 1023)\n",
            "0: 5 0.5: 83 1: 9 normalized_dataset/las_thetag_dg_w_e2g1_15.csv 97\n",
            "Final shapes: (20, 1023) (36, 1023) (83, 1023)\n",
            "0: 9 0.5: 59 1: 8 normalized_dataset/las_thetag_dg_w_e8g1_8.csv 76\n",
            "Final shapes: (27, 1023) (24, 1023) (59, 1023)\n",
            "0: 5 0.5: 57 1: 7 normalized_dataset/las_thetag_dg_w_e8g1_3.csv 69\n",
            "Final shapes: (20, 1023) (28, 1023) (57, 1023)\n",
            "0: 7 0.5: 61 1: 4 normalized_dataset/las_thetag_dg_w_e8g1_19.csv 72\n",
            "Final shapes: (28, 1023) (16, 1023) (61, 1023)\n",
            "0: 10 0.5: 71 1: 10 normalized_dataset/las_thetag_dg_w_e10g1_11.csv 91\n",
            "Final shapes: (30, 1023) (30, 1023) (71, 1023)\n",
            "0: 7 0.5: 65 1: 8 normalized_dataset/las_thetag_dg_w_e1g1_10.csv 80\n",
            "Final shapes: (28, 1023) (32, 1023) (65, 1023)\n",
            "0: 11 0.5: 77 1: 11 normalized_dataset/las_thetag_dg_w_e4g1_20.csv 99\n",
            "Final shapes: (33, 1023) (33, 1023) (77, 1023)\n",
            "0: 12 0.5: 74 1: 10 normalized_dataset/las_thetag_dg_w_e4g1_19.csv 96\n",
            "Final shapes: (36, 1023) (30, 1023) (74, 1023)\n",
            "0: 8 0.5: 56 1: 7 normalized_dataset/las_thetag_dg_w_e7g1_17.csv 71\n",
            "Final shapes: (24, 1023) (21, 1023) (56, 1023)\n",
            "0: 8 0.5: 60 1: 8 normalized_dataset/las_thetag_dg_w_e7g1_16.csv 76\n",
            "Final shapes: (24, 1023) (24, 1023) (60, 1023)\n",
            "0: 6 0.5: 66 1: 7 normalized_dataset/las_thetag_dg_w_e6g1_15.csv 79\n",
            "Final shapes: (24, 1023) (28, 1023) (66, 1023)\n",
            "0: 7 0.5: 71 1: 8 normalized_dataset/las_thetag_dg_w_e4g1_17.csv 86\n",
            "Final shapes: (28, 1023) (32, 1023) (71, 1023)\n",
            "0: 6 0.5: 64 1: 6 normalized_dataset/las_thetag_dg_w_e7g1_11.csv 76\n",
            "Final shapes: (30, 1023) (30, 1023) (64, 1023)\n",
            "0: 7 0.5: 84 1: 8 normalized_dataset/las_thetag_dg_w_e2g1_20.csv 99\n",
            "Final shapes: (35, 1023) (40, 1023) (84, 1023)\n",
            "0: 6 0.5: 68 1: 6 normalized_dataset/las_thetag_dg_w_e10g1_19.csv 80\n",
            "Final shapes: (30, 1023) (30, 1023) (68, 1023)\n",
            "0: 8 0.5: 62 1: 3 normalized_dataset/las_thetag_dg_w_e8g1_20.csv 73\n",
            "Final shapes: (24, 1023) (9, 1023) (62, 1023)\n",
            "0: 7 0.5: 63 1: 7 normalized_dataset/las_thetag_dg_w_e4g1_6.csv 77\n",
            "Final shapes: (28, 1023) (28, 1023) (63, 1023)\n",
            "0: 11 0.5: 64 1: 11 normalized_dataset/las_thetag_dg_w_e4g1_8.csv 86\n",
            "Final shapes: (22, 1023) (22, 1023) (64, 1023)\n",
            "0: 7 0.5: 56 1: 8 normalized_dataset/las_thetag_dg_w_e7g1_13.csv 71\n",
            "Final shapes: (21, 1023) (24, 1023) (56, 1023)\n",
            "0: 7 0.5: 88 1: 8 normalized_dataset/las_thetag_dg_w_e2g1_18.csv 103\n",
            "Final shapes: (35, 1023) (40, 1023) (88, 1023)\n",
            "0: 4 0.5: 50 1: 4 normalized_dataset/las_thetag_dg_w_e6g1_9.csv 58\n",
            "Final shapes: (24, 1023) (24, 1023) (50, 1023)\n",
            "0: 8 0.5: 68 1: 6 normalized_dataset/las_thetag_dg_w_e2g1_3.csv 82\n",
            "Final shapes: (32, 1023) (24, 1023) (68, 1023)\n",
            "0: 11 0.5: 71 1: 12 normalized_dataset/las_thetag_dg_w_e5g1_6.csv 94\n",
            "Final shapes: (22, 1023) (24, 1023) (71, 1023)\n",
            "0: 8 0.5: 60 1: 8 normalized_dataset/las_thetag_dg_w_e9g1_5.csv 76\n",
            "Final shapes: (24, 1023) (24, 1023) (60, 1023)\n",
            "0: 7 0.5: 62 1: 7 normalized_dataset/las_thetag_dg_w_e6g1_14.csv 76\n",
            "Final shapes: (28, 1023) (28, 1023) (62, 1023)\n",
            "0: 9 0.5: 66 1: 8 normalized_dataset/las_thetag_dg_w_e9g1_16.csv 83\n",
            "Final shapes: (27, 1023) (24, 1023) (66, 1023)\n",
            "0: 11 0.5: 78 1: 11 normalized_dataset/las_thetag_dg_w_e10g1_4.csv 100\n",
            "Final shapes: (33, 1023) (33, 1023) (78, 1023)\n",
            "0: 6 0.5: 62 1: 7 normalized_dataset/las_thetag_dg_w_e8g1_10.csv 75\n",
            "Final shapes: (24, 1023) (28, 1023) (62, 1023)\n",
            "0: 6 0.5: 68 1: 6 normalized_dataset/las_thetag_dg_w_e2g1_11.csv 80\n",
            "Final shapes: (30, 1023) (30, 1023) (68, 1023)\n",
            "0: 10 0.5: 78 1: 11 normalized_dataset/las_thetag_dg_w_e5g1_3.csv 99\n",
            "Final shapes: (30, 1023) (33, 1023) (78, 1023)\n",
            "0: 11 0.5: 67 1: 11 normalized_dataset/las_thetag_dg_w_e9g1_12.csv 89\n",
            "Final shapes: (33, 1023) (33, 1023) (67, 1023)\n",
            "0: 6 0.5: 88 1: 7 normalized_dataset/las_thetag_dg_w_e2g1_14.csv 101\n",
            "Final shapes: (36, 1023) (42, 1023) (88, 1023)\n",
            "0: 11 0.5: 74 1: 10 normalized_dataset/las_thetag_dg_w_e4g1_18.csv 95\n",
            "Final shapes: (33, 1023) (30, 1023) (74, 1023)\n",
            "0: 12 0.5: 69 1: 10 normalized_dataset/las_thetag_dg_w_e10g1_2.csv 91\n",
            "Final shapes: (24, 1023) (20, 1023) (69, 1023)\n",
            "0: 10 0.5: 77 1: 9 normalized_dataset/las_thetag_dg_w_e10g1_10.csv 96\n",
            "Final shapes: (30, 1023) (27, 1023) (77, 1023)\n",
            "0: 8 0.5: 66 1: 8 normalized_dataset/las_thetag_dg_w_e4g1_13.csv 82\n",
            "Final shapes: (32, 1023) (32, 1023) (66, 1023)\n",
            "0: 7 0.5: 70 1: 7 normalized_dataset/las_thetag_dg_w_e4g1_4.csv 84\n",
            "Final shapes: (35, 1023) (35, 1023) (70, 1023)\n",
            "0: 3 0.5: 51 1: 3 normalized_dataset/las_thetag_dg_w_e3g1_16.csv 57\n",
            "Final shapes: (24, 1023) (24, 1023) (51, 1023)\n",
            "0: 8 0.5: 70 1: 8 normalized_dataset/las_thetag_dg_w_e4g1_12.csv 86\n",
            "Final shapes: (32, 1023) (32, 1023) (70, 1023)\n",
            "0: 4 0.5: 52 1: 3 normalized_dataset/las_thetag_dg_w_e6g1_8.csv 59\n",
            "Final shapes: (24, 1023) (18, 1023) (52, 1023)\n",
            "0: 3 0.5: 51 1: 3 normalized_dataset/las_thetag_dg_w_e6g1_6.csv 57\n",
            "Final shapes: (24, 1023) (24, 1023) (51, 1023)\n",
            "0: 7 0.5: 62 1: 8 normalized_dataset/las_thetag_dg_w_e9g1_9.csv 77\n",
            "Final shapes: (21, 1023) (24, 1023) (62, 1023)\n",
            "0: 5 0.5: 54 1: 5 normalized_dataset/las_thetag_dg_w_e7g1_20.csv 64\n",
            "Final shapes: (25, 1023) (25, 1023) (54, 1023)\n",
            "0: 6 0.5: 65 1: 8 normalized_dataset/las_thetag_dg_w_e1g1_17.csv 79\n",
            "Final shapes: (24, 1023) (32, 1023) (65, 1023)\n",
            "0: 8 0.5: 71 1: 7 normalized_dataset/las_thetag_dg_w_e1g1_16.csv 86\n",
            "Final shapes: (32, 1023) (28, 1023) (71, 1023)\n",
            "0: 8 0.5: 60 1: 7 normalized_dataset/las_thetag_dg_w_e9g1_3.csv 75\n",
            "Final shapes: (24, 1023) (21, 1023) (60, 1023)\n",
            "0: 8 0.5: 63 1: 4 normalized_dataset/las_thetag_dg_w_e8g1_15.csv 75\n",
            "Final shapes: (24, 1023) (12, 1023) (63, 1023)\n",
            "0: 7 0.5: 85 1: 6 normalized_dataset/las_thetag_dg_w_e2g1_17.csv 98\n",
            "Final shapes: (42, 1023) (36, 1023) (85, 1023)\n",
            "0: 7 0.5: 66 1: 6 normalized_dataset/las_thetag_dg_w_e1g1_2.csv 79\n",
            "Final shapes: (28, 1023) (24, 1023) (66, 1023)\n",
            "0: 11 0.5: 74 1: 12 normalized_dataset/las_thetag_dg_w_e5g1_19.csv 97\n",
            "Final shapes: (33, 1023) (36, 1023) (74, 1023)\n",
            "0: 11 0.5: 70 1: 10 normalized_dataset/las_thetag_dg_w_e5g1_5.csv 91\n",
            "Final shapes: (33, 1023) (30, 1023) (70, 1023)\n",
            "0: 7 0.5: 65 1: 7 normalized_dataset/las_thetag_dg_w_e7g1_6.csv 79\n",
            "Final shapes: (28, 1023) (28, 1023) (65, 1023)\n",
            "0: 4 0.5: 52 1: 4 normalized_dataset/las_thetag_dg_w_e3g1_11.csv 60\n",
            "Final shapes: (24, 1023) (24, 1023) (52, 1023)\n",
            "0: 8 0.5: 63 1: 7 normalized_dataset/las_thetag_dg_w_e1g1_8.csv 78\n",
            "Final shapes: (24, 1023) (21, 1023) (63, 1023)\n",
            "0: 4 0.5: 49 1: 4 normalized_dataset/las_thetag_dg_w_e3g1_7.csv 57\n",
            "Final shapes: (24, 1023) (24, 1023) (49, 1023)\n",
            "0: 9 0.5: 84 1: 8 normalized_dataset/las_thetag_dg_w_e2g1_12.csv 101\n",
            "Final shapes: (36, 1023) (32, 1023) (84, 1023)\n",
            "0: 7 0.5: 65 1: 5 normalized_dataset/las_thetag_dg_w_e8g1_11.csv 77\n",
            "Final shapes: (28, 1023) (20, 1023) (65, 1023)\n",
            "0: 7 0.5: 59 1: 6 normalized_dataset/las_thetag_dg_w_e9g1_8.csv 72\n",
            "Final shapes: (28, 1023) (24, 1023) (59, 1023)\n",
            "0: 10 0.5: 74 1: 11 normalized_dataset/las_thetag_dg_w_e10g1_3.csv 95\n",
            "Final shapes: (30, 1023) (33, 1023) (74, 1023)\n",
            "0: 7 0.5: 87 1: 8 normalized_dataset/las_thetag_dg_w_e2g1_16.csv 102\n",
            "Final shapes: (35, 1023) (40, 1023) (87, 1023)\n",
            "0: 7 0.5: 63 1: 6 normalized_dataset/las_thetag_dg_w_e7g1_1.csv 76\n",
            "Final shapes: (28, 1023) (24, 1023) (63, 1023)\n",
            "0: 7 0.5: 64 1: 6 normalized_dataset/las_thetag_dg_w_e1g1_14.csv 77\n",
            "Final shapes: (28, 1023) (24, 1023) (64, 1023)\n",
            "0: 7 0.5: 54 1: 8 normalized_dataset/las_thetag_dg_w_e3g1_9.csv 69\n",
            "Final shapes: (21, 1023) (24, 1023) (54, 1023)\n",
            "0: 4 0.5: 52 1: 3 normalized_dataset/las_thetag_dg_w_e6g1_7.csv 59\n",
            "Final shapes: (24, 1023) (18, 1023) (52, 1023)\n",
            "0: 8 0.5: 53 1: 8 normalized_dataset/las_thetag_dg_w_e3g1_2.csv 69\n",
            "Final shapes: (24, 1023) (24, 1023) (53, 1023)\n",
            "0: 14 0.5: 68 1: 11 normalized_dataset/las_thetag_dg_w_e5g1_20.csv 93\n",
            "Final shapes: (28, 1023) (22, 1023) (68, 1023)\n",
            "0: 8 0.5: 66 1: 8 normalized_dataset/las_thetag_dg_w_e4g1_9.csv 82\n",
            "Final shapes: (32, 1023) (32, 1023) (66, 1023)\n",
            "0: 6 0.5: 56 1: 6 normalized_dataset/las_thetag_dg_w_e7g1_15.csv 68\n",
            "Final shapes: (24, 1023) (24, 1023) (56, 1023)\n",
            "0: 10 0.5: 78 1: 9 normalized_dataset/las_thetag_dg_w_e9g1_17.csv 97\n",
            "Final shapes: (30, 1023) (27, 1023) (78, 1023)\n",
            "0: 7 0.5: 59 1: 4 normalized_dataset/las_thetag_dg_w_e8g1_13.csv 70\n",
            "Final shapes: (28, 1023) (16, 1023) (59, 1023)\n",
            "0: 8 0.5: 68 1: 6 normalized_dataset/las_thetag_dg_w_e10g1_18.csv 82\n",
            "Final shapes: (32, 1023) (24, 1023) (68, 1023)\n",
            "0: 7 0.5: 60 1: 7 normalized_dataset/las_thetag_dg_w_e1g1_12.csv 74\n",
            "Final shapes: (28, 1023) (28, 1023) (60, 1023)\n",
            "0: 8 0.5: 89 1: 7 normalized_dataset/las_thetag_dg_w_e2g1_19.csv 104\n",
            "Final shapes: (40, 1023) (35, 1023) (89, 1023)\n",
            "0: 7 0.5: 62 1: 9 normalized_dataset/las_thetag_dg_w_e9g1_7.csv 78\n",
            "Final shapes: (21, 1023) (27, 1023) (62, 1023)\n",
            "0: 7 0.5: 66 1: 3 normalized_dataset/las_thetag_dg_w_e8g1_17.csv 76\n",
            "Final shapes: (28, 1023) (12, 1023) (66, 1023)\n",
            "0: 12 0.5: 70 1: 10 normalized_dataset/las_thetag_dg_w_e10g1_9.csv 92\n",
            "Final shapes: (24, 1023) (20, 1023) (70, 1023)\n",
            "0: 6 0.5: 69 1: 7 normalized_dataset/las_thetag_dg_w_e1g1_18.csv 82\n",
            "Final shapes: (24, 1023) (28, 1023) (69, 1023)\n",
            "0: 12 0.5: 61 1: 9 normalized_dataset/las_thetag_dg_w_e3g1_6.csv 82\n",
            "Final shapes: (24, 1023) (18, 1023) (61, 1023)\n"
          ],
          "name": "stdout"
        }
      ]
    },
    {
      "cell_type": "code",
      "metadata": {
        "id": "3ceIGD_ta3Hl",
        "colab_type": "code",
        "colab": {}
      },
      "source": [
        "# After zipping, download the zipped folder containing the dataset\n",
        "!zip -r balanced_normalized_dataset.zip balanced_normalized_dataset"
      ],
      "execution_count": 0,
      "outputs": []
    },
    {
      "cell_type": "code",
      "metadata": {
        "id": "NOfUyFBrcOKh",
        "colab_type": "code",
        "colab": {}
      },
      "source": [
        "import shutil\n",
        "shutil.move(\"balanced_normalized_dataset.zip\", \"drive/My Drive/balanced_normalized_dataset.zip\")"
      ],
      "execution_count": 0,
      "outputs": []
    }
  ]
}